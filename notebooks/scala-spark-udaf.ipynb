{
 "cells": [
  {
   "cell_type": "code",
   "execution_count": null,
   "metadata": {},
   "outputs": [],
   "source": [
    "import $ivy.`org.apache.spark:spark-sql_2.13:3.5.0`\n",
    "\n",
    "import org.apache.spark.sql.SparkSession\n",
    "\n",
    "val spark = SparkSession.builder()\n",
    "  .appName(\"ScalaSpark\")\n",
    "  .master(\"local[*]\")\n",
    "  .getOrCreate()\n",
    "\n",
    "import spark.implicits._\n"
   ]
  },
  {
   "cell_type": "code",
   "execution_count": null,
   "metadata": {},
   "outputs": [],
   "source": [
    "import org.apache.spark.sql.expressions.Aggregator\n",
    "import org.apache.spark.sql.Encoders\n",
    "import org.apache.spark.sql.functions.udaf\n",
    "\n",
    "case class IntSumBuffer(var sum: Long = 0L)\n",
    "\n",
    "object SumAll extends Aggregator[Int, IntSumBuffer, Long] {\n",
    "  def zero = IntSumBuffer(0L)\n",
    "  def reduce(buffer: IntSumBuffer, value: Int): IntSumBuffer = {\n",
    "    buffer.sum += value\n",
    "    buffer\n",
    "  }\n",
    "  def merge(b1: IntSumBuffer, b2: IntSumBuffer): IntSumBuffer = {\n",
    "    b1.sum += b2.sum\n",
    "    b1\n",
    "  }\n",
    "  def finish(reduction: IntSumBuffer): Long = reduction.sum\n",
    "  def bufferEncoder = Encoders.product[IntSumBuffer]\n",
    "  def outputEncoder = Encoders.scalaLong\n",
    "}\n",
    "\n",
    "val sumAll = udaf(SumAll)\n"
   ]
  },
  {
   "cell_type": "code",
   "execution_count": null,
   "metadata": {},
   "outputs": [],
   "source": [
    "val df = Seq(1, 2, 3, 4, 5).toDF(\"value\")\n",
    "df.select(sumAll($\"value\").as(\"total_sum\")).show()"
   ]
  }
 ],
 "metadata": {
  "kernelspec": {
   "display_name": "Scala",
   "language": "scala",
   "name": "scala"
  },
  "language_info": {
   "codemirror_mode": "text/x-scala",
   "file_extension": ".sc",
   "mimetype": "text/x-scala",
   "name": "scala",
   "nbconvert_exporter": "script",
   "version": "2.13.16"
  }
 },
 "nbformat": 4,
 "nbformat_minor": 2
}
