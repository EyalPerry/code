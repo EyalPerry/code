{
 "cells": [
  {
   "cell_type": "code",
   "execution_count": 1,
   "metadata": {},
   "outputs": [
    {
     "data": {
      "text/plain": [
       "\u001b[32mimport \u001b[39m\u001b[36m$cp.$\u001b[39m"
      ]
     },
     "execution_count": 1,
     "metadata": {},
     "output_type": "execute_result"
    }
   ],
   "source": [
    "import $cp.`/container/target/dependency/*`"
   ]
  },
  {
   "cell_type": "code",
   "execution_count": 2,
   "metadata": {},
   "outputs": [
    {
     "name": "stderr",
     "output_type": "stream",
     "text": [
      "SLF4J: Failed to load class \"org.slf4j.impl.StaticLoggerBinder\".\n",
      "SLF4J: Defaulting to no-operation (NOP) logger implementation\n",
      "SLF4J: See http://www.slf4j.org/codes.html#StaticLoggerBinder for further details.\n"
     ]
    },
    {
     "data": {
      "text/plain": [
       "\u001b[32mimport \u001b[39m\u001b[36morg.apache.spark.sql.SparkSession\u001b[39m\n",
       "\u001b[36mspark\u001b[39m: \u001b[32mSparkSession\u001b[39m = org.apache.spark.sql.SparkSession@687b3912\n",
       "\u001b[32mimport \u001b[39m\u001b[36mspark.implicits._\u001b[39m"
      ]
     },
     "execution_count": 2,
     "metadata": {},
     "output_type": "execute_result"
    }
   ],
   "source": [
    "import org.apache.spark.sql.SparkSession\n",
    "\n",
    "val spark = SparkSession.builder()\n",
    "  .appName(\"ScalaSpark\")\n",
    "  .master(\"local[*]\")\n",
    "  .getOrCreate()\n",
    "\n",
    "import spark.implicits._\n"
   ]
  },
  {
   "cell_type": "code",
   "execution_count": 3,
   "metadata": {},
   "outputs": [
    {
     "data": {
      "text/plain": [
       "\u001b[32mimport \u001b[39m\u001b[36morg.apache.spark.sql.expressions.Aggregator\u001b[39m\n",
       "\u001b[32mimport \u001b[39m\u001b[36morg.apache.spark.sql.Encoders\u001b[39m\n",
       "\u001b[32mimport \u001b[39m\u001b[36morg.apache.spark.sql.functions.udaf\u001b[39m\n",
       "defined \u001b[32mclass\u001b[39m \u001b[36mIntSumBuffer\u001b[39m\n",
       "defined \u001b[32mobject\u001b[39m \u001b[36mSumAll\u001b[39m\n",
       "\u001b[36msumAll\u001b[39m: \u001b[32morg\u001b[39m.\u001b[32mapache\u001b[39m.\u001b[32mspark\u001b[39m.\u001b[32msql\u001b[39m.\u001b[32mexpressions\u001b[39m.\u001b[32mUserDefinedFunction\u001b[39m = \u001b[33mUserDefinedAggregator\u001b[39m(\n",
       "  aggregator = ammonite.$sess.cmd3$Helper$SumAll$@53ab4d63,\n",
       "  inputEncoder = \u001b[33mExpressionEncoder\u001b[39m(\n",
       "    objSerializer = \u001b[33mBoundReference\u001b[39m(\n",
       "      ordinal = \u001b[32m0\u001b[39m,\n",
       "      dataType = IntegerType,\n",
       "      nullable = \u001b[32mfalse\u001b[39m\n",
       "    ),\n",
       "    objDeserializer = \u001b[33mAssertNotNull\u001b[39m(\n",
       "      child = \u001b[33mUpCast\u001b[39m(\n",
       "        child = \u001b[33mGetColumnByOrdinal\u001b[39m(ordinal = \u001b[32m0\u001b[39m, dataType = IntegerType),\n",
       "        target = IntegerType,\n",
       "        walkedTypePath = \u001b[33mList\u001b[39m(\u001b[32m\"- root class: \\\"int\\\"\"\u001b[39m)\n",
       "      ),\n",
       "      walkedTypePath = \u001b[33mList\u001b[39m(\u001b[32m\"- root class: \\\"int\\\"\"\u001b[39m)\n",
       "    ),\n",
       "    clsTag = Int\n",
       "  ),\n",
       "  name = \u001b[32mNone\u001b[39m,\n",
       "  nullable = \u001b[32mtrue\u001b[39m,\n",
       "  deterministic = \u001b[32mtrue\u001b[39m\n",
       ")"
      ]
     },
     "execution_count": 3,
     "metadata": {},
     "output_type": "execute_result"
    }
   ],
   "source": [
    "import org.apache.spark.sql.expressions.Aggregator\n",
    "import org.apache.spark.sql.Encoders\n",
    "import org.apache.spark.sql.functions.udaf\n",
    "\n",
    "case class IntSumBuffer(var sum: Long = 0L)\n",
    "\n",
    "object SumAll extends Aggregator[Int, IntSumBuffer, Long] {\n",
    "  def zero = IntSumBuffer(0L)\n",
    "  def reduce(buffer: IntSumBuffer, value: Int): IntSumBuffer = {\n",
    "    buffer.sum += value\n",
    "    buffer\n",
    "  }\n",
    "  def merge(b1: IntSumBuffer, b2: IntSumBuffer): IntSumBuffer = {\n",
    "    b1.sum += b2.sum\n",
    "    b1\n",
    "  }\n",
    "  def finish(reduction: IntSumBuffer): Long = reduction.sum\n",
    "  def bufferEncoder = Encoders.product[IntSumBuffer]\n",
    "  def outputEncoder = Encoders.scalaLong\n",
    "}\n",
    "\n",
    "val sumAll = udaf(SumAll)\n"
   ]
  },
  {
   "cell_type": "code",
   "execution_count": 4,
   "metadata": {},
   "outputs": [
    {
     "name": "stderr",
     "output_type": "stream",
     "text": [
      "SLF4J: Failed to load class \"org.slf4j.impl.StaticMDCBinder\".\n",
      "SLF4J: Defaulting to no-operation MDCAdapter implementation.\n",
      "SLF4J: See http://www.slf4j.org/codes.html#no_static_mdc_binder for further details.\n"
     ]
    },
    {
     "name": "stdout",
     "output_type": "stream",
     "text": [
      "+---------+\n",
      "|total_sum|\n",
      "+---------+\n",
      "|       15|\n",
      "+---------+\n",
      "\n"
     ]
    },
    {
     "data": {
      "text/plain": [
       "\u001b[36mdf\u001b[39m: \u001b[32morg\u001b[39m.\u001b[32mapache\u001b[39m.\u001b[32mspark\u001b[39m.\u001b[32msql\u001b[39m.\u001b[32mpackage\u001b[39m.\u001b[32mDataFrame\u001b[39m = [value: int]"
      ]
     },
     "execution_count": 4,
     "metadata": {},
     "output_type": "execute_result"
    }
   ],
   "source": [
    "val df = Seq(1, 2, 3, 4, 5).toDF(\"value\")\n",
    "df.select(sumAll($\"value\").as(\"total_sum\")).show()"
   ]
  }
 ],
 "metadata": {
  "kernelspec": {
   "display_name": "Scala",
   "language": "scala",
   "name": "scala"
  },
  "language_info": {
   "codemirror_mode": "text/x-scala",
   "file_extension": ".sc",
   "mimetype": "text/x-scala",
   "name": "scala",
   "nbconvert_exporter": "script",
   "version": "2.13.16"
  }
 },
 "nbformat": 4,
 "nbformat_minor": 2
}
