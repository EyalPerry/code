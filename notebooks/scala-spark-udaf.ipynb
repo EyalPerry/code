{
 "cells": [
  {
   "cell_type": "code",
   "execution_count": 1,
   "metadata": {},
   "outputs": [
    {
     "name": "stderr",
     "output_type": "stream",
     "text": [
      "Using Spark's default log4j profile: org/apache/spark/log4j2-defaults.properties\n",
      "25/03/30 17:52:30 WARN Utils: Your hostname, DESKTOP-CN01VS3 resolves to a loopback address: 127.0.1.1; using 10.255.255.254 instead (on interface lo)\n",
      "25/03/30 17:52:30 WARN Utils: Set SPARK_LOCAL_IP if you need to bind to another address\n",
      "25/03/30 17:52:28 INFO SparkContext: Running Spark version 3.5.0\n",
      "25/03/30 17:52:28 INFO SparkContext: OS info Linux, 5.15.167.4-microsoft-standard-WSL2, amd64\n",
      "25/03/30 17:52:28 INFO SparkContext: Java version 17.0.14\n",
      "25/03/30 17:52:28 WARN NativeCodeLoader: Unable to load native-hadoop library for your platform... using builtin-java classes where applicable\n",
      "25/03/30 17:52:28 INFO ResourceUtils: ==============================================================\n",
      "25/03/30 17:52:28 INFO ResourceUtils: No custom resources configured for spark.driver.\n",
      "25/03/30 17:52:28 INFO ResourceUtils: ==============================================================\n",
      "25/03/30 17:52:28 INFO SparkContext: Submitted application: ScalaSpark\n",
      "25/03/30 17:52:28 INFO ResourceProfile: Default ResourceProfile created, executor resources: Map(cores -> name: cores, amount: 1, script: , vendor: , memory -> name: memory, amount: 1024, script: , vendor: , offHeap -> name: offHeap, amount: 0, script: , vendor: ), task resources: Map(cpus -> name: cpus, amount: 1.0)\n",
      "25/03/30 17:52:28 INFO ResourceProfile: Limiting resource is cpu\n",
      "25/03/30 17:52:28 INFO ResourceProfileManager: Added ResourceProfile id: 0\n",
      "25/03/30 17:52:28 INFO SecurityManager: Changing view acls to: eyal\n",
      "25/03/30 17:52:28 INFO SecurityManager: Changing modify acls to: eyal\n",
      "25/03/30 17:52:28 INFO SecurityManager: Changing view acls groups to: \n",
      "25/03/30 17:52:28 INFO SecurityManager: Changing modify acls groups to: \n",
      "25/03/30 17:52:28 INFO SecurityManager: SecurityManager: authentication disabled; ui acls disabled; users with view permissions: eyal; groups with view permissions: EMPTY; users with modify permissions: eyal; groups with modify permissions: EMPTY\n",
      "25/03/30 17:52:28 INFO Utils: Successfully started service 'sparkDriver' on port 40499.\n",
      "25/03/30 17:52:28 INFO SparkEnv: Registering MapOutputTracker\n",
      "25/03/30 17:52:28 INFO SparkEnv: Registering BlockManagerMaster\n",
      "25/03/30 17:52:29 INFO BlockManagerMasterEndpoint: Using org.apache.spark.storage.DefaultTopologyMapper for getting topology information\n",
      "25/03/30 17:52:29 INFO BlockManagerMasterEndpoint: BlockManagerMasterEndpoint up\n",
      "25/03/30 17:52:29 INFO SparkEnv: Registering BlockManagerMasterHeartbeat\n",
      "25/03/30 17:52:29 INFO DiskBlockManager: Created local directory at /tmp/blockmgr-7d0afa1b-3c97-4658-9a34-af9a3f0b7167\n",
      "25/03/30 17:52:29 INFO MemoryStore: MemoryStore started with capacity 2.2 GiB\n",
      "25/03/30 17:52:29 INFO SparkEnv: Registering OutputCommitCoordinator\n",
      "25/03/30 17:52:29 INFO JettyUtils: Start Jetty 0.0.0.0:4040 for SparkUI\n",
      "25/03/30 17:52:29 WARN Utils: Service 'SparkUI' could not bind on port 4040. Attempting port 4041.\n",
      "25/03/30 17:52:29 INFO Utils: Successfully started service 'SparkUI' on port 4041.\n",
      "25/03/30 17:52:29 INFO Executor: Starting executor ID driver on host 10.255.255.254\n",
      "25/03/30 17:52:29 INFO Executor: OS info Linux, 5.15.167.4-microsoft-standard-WSL2, amd64\n",
      "25/03/30 17:52:29 INFO Executor: Java version 17.0.14\n",
      "25/03/30 17:52:29 INFO Executor: Starting executor with user classpath (userClassPathFirst = false): ''\n",
      "25/03/30 17:52:29 INFO Executor: Created or updated repl class loader org.apache.spark.util.MutableURLClassLoader@6c3085d7 for default.\n",
      "25/03/30 17:52:29 INFO Utils: Successfully started service 'org.apache.spark.network.netty.NettyBlockTransferService' on port 43891.\n",
      "25/03/30 17:52:29 INFO NettyBlockTransferService: Server created on 10.255.255.254:43891\n",
      "25/03/30 17:52:29 INFO BlockManager: Using org.apache.spark.storage.RandomBlockReplicationPolicy for block replication policy\n",
      "25/03/30 17:52:29 INFO BlockManagerMaster: Registering BlockManager BlockManagerId(driver, 10.255.255.254, 43891, None)\n",
      "25/03/30 17:52:29 INFO BlockManagerMasterEndpoint: Registering block manager 10.255.255.254:43891 with 2.2 GiB RAM, BlockManagerId(driver, 10.255.255.254, 43891, None)\n",
      "25/03/30 17:52:29 INFO BlockManagerMaster: Registered BlockManager BlockManagerId(driver, 10.255.255.254, 43891, None)\n",
      "25/03/30 17:52:29 INFO BlockManager: Initialized BlockManager: BlockManagerId(driver, 10.255.255.254, 43891, None)\n"
     ]
    },
    {
     "data": {
      "text/plain": [
       "\u001b[32mimport \u001b[39m\u001b[36m$ivy.$\u001b[39m\n",
       "\u001b[32mimport \u001b[39m\u001b[36morg.apache.spark.sql.SparkSession\u001b[39m\n",
       "\u001b[36mspark\u001b[39m: \u001b[32mSparkSession\u001b[39m = org.apache.spark.sql.SparkSession@71dc2e6a\n",
       "\u001b[32mimport \u001b[39m\u001b[36mspark.implicits._\u001b[39m"
      ]
     },
     "execution_count": 1,
     "metadata": {},
     "output_type": "execute_result"
    }
   ],
   "source": [
    "import $ivy.`org.apache.spark:spark-sql_2.13:3.5.0`\n",
    "\n",
    "import org.apache.spark.sql.SparkSession\n",
    "\n",
    "val spark = SparkSession.builder()\n",
    "  .appName(\"ScalaSpark\")\n",
    "  .master(\"local[*]\")\n",
    "  .getOrCreate()\n",
    "\n",
    "import spark.implicits._\n"
   ]
  },
  {
   "cell_type": "code",
   "execution_count": 2,
   "metadata": {},
   "outputs": [
    {
     "data": {
      "text/plain": [
       "\u001b[32mimport \u001b[39m\u001b[36morg.apache.spark.sql.expressions.Aggregator\u001b[39m\n",
       "\u001b[32mimport \u001b[39m\u001b[36morg.apache.spark.sql.Encoders\u001b[39m\n",
       "\u001b[32mimport \u001b[39m\u001b[36morg.apache.spark.sql.functions.udaf\u001b[39m\n",
       "defined \u001b[32mclass\u001b[39m \u001b[36mIntSumBuffer\u001b[39m\n",
       "defined \u001b[32mobject\u001b[39m \u001b[36mSumAll\u001b[39m\n",
       "\u001b[36msumAll\u001b[39m: \u001b[32morg\u001b[39m.\u001b[32mapache\u001b[39m.\u001b[32mspark\u001b[39m.\u001b[32msql\u001b[39m.\u001b[32mexpressions\u001b[39m.\u001b[32mUserDefinedFunction\u001b[39m = \u001b[33mUserDefinedAggregator\u001b[39m(\n",
       "  aggregator = ammonite.$sess.cmd2$Helper$SumAll$@10b31a79,\n",
       "  inputEncoder = \u001b[33mExpressionEncoder\u001b[39m(\n",
       "    objSerializer = \u001b[33mBoundReference\u001b[39m(\n",
       "      ordinal = \u001b[32m0\u001b[39m,\n",
       "      dataType = IntegerType,\n",
       "      nullable = \u001b[32mfalse\u001b[39m\n",
       "    ),\n",
       "    objDeserializer = \u001b[33mAssertNotNull\u001b[39m(\n",
       "      child = \u001b[33mUpCast\u001b[39m(\n",
       "        child = \u001b[33mGetColumnByOrdinal\u001b[39m(ordinal = \u001b[32m0\u001b[39m, dataType = IntegerType),\n",
       "        target = IntegerType,\n",
       "        walkedTypePath = \u001b[33mList\u001b[39m(\u001b[32m\"- root class: \\\"int\\\"\"\u001b[39m)\n",
       "      ),\n",
       "      walkedTypePath = \u001b[33mList\u001b[39m(\u001b[32m\"- root class: \\\"int\\\"\"\u001b[39m)\n",
       "    ),\n",
       "    clsTag = Int\n",
       "  ),\n",
       "  name = \u001b[32mNone\u001b[39m,\n",
       "  nullable = \u001b[32mtrue\u001b[39m,\n",
       "  deterministic = \u001b[32mtrue\u001b[39m\n",
       ")"
      ]
     },
     "execution_count": 2,
     "metadata": {},
     "output_type": "execute_result"
    }
   ],
   "source": [
    "import org.apache.spark.sql.expressions.Aggregator\n",
    "import org.apache.spark.sql.Encoders\n",
    "import org.apache.spark.sql.functions.udaf\n",
    "\n",
    "case class IntSumBuffer(var sum: Long = 0L)\n",
    "\n",
    "object SumAll extends Aggregator[Int, IntSumBuffer, Long] {\n",
    "  def zero = IntSumBuffer(0L)\n",
    "  def reduce(buffer: IntSumBuffer, value: Int): IntSumBuffer = {\n",
    "    buffer.sum += value\n",
    "    buffer\n",
    "  }\n",
    "  def merge(b1: IntSumBuffer, b2: IntSumBuffer): IntSumBuffer = {\n",
    "    b1.sum += b2.sum\n",
    "    b1\n",
    "  }\n",
    "  def finish(reduction: IntSumBuffer): Long = reduction.sum\n",
    "  def bufferEncoder = Encoders.product[IntSumBuffer]\n",
    "  def outputEncoder = Encoders.scalaLong\n",
    "}\n",
    "\n",
    "val sumAll = udaf(SumAll)\n"
   ]
  },
  {
   "cell_type": "code",
   "execution_count": 3,
   "metadata": {},
   "outputs": [
    {
     "name": "stderr",
     "output_type": "stream",
     "text": [
      "25/03/30 17:52:31 INFO SharedState: Setting hive.metastore.warehouse.dir ('null') to the value of spark.sql.warehouse.dir.\n",
      "25/03/30 17:52:31 INFO SharedState: Warehouse path is 'file:/home/eyal/code/notebooks/spark-warehouse'.\n",
      "25/03/30 17:52:32 INFO CodeGenerator: Code generated in 158.959275 ms\n",
      "25/03/30 17:52:33 INFO DAGScheduler: Registering RDD 3 (show at cmd3.sc:2) as input to shuffle 0\n",
      "25/03/30 17:52:33 INFO DAGScheduler: Got map stage job 0 (show at cmd3.sc:2) with 5 output partitions\n",
      "25/03/30 17:52:33 INFO DAGScheduler: Final stage: ShuffleMapStage 0 (show at cmd3.sc:2)\n",
      "25/03/30 17:52:33 INFO DAGScheduler: Parents of final stage: List()\n",
      "25/03/30 17:52:33 INFO DAGScheduler: Missing parents: List()\n",
      "25/03/30 17:52:33 INFO DAGScheduler: Submitting ShuffleMapStage 0 (MapPartitionsRDD[3] at show at cmd3.sc:2), which has no missing parents\n",
      "25/03/30 17:52:33 INFO MemoryStore: Block broadcast_0 stored as values in memory (estimated size 21.3 KiB, free 2.2 GiB)\n",
      "25/03/30 17:52:33 INFO MemoryStore: Block broadcast_0_piece0 stored as bytes in memory (estimated size 9.3 KiB, free 2.2 GiB)\n",
      "25/03/30 17:52:33 INFO BlockManagerInfo: Added broadcast_0_piece0 in memory on 10.255.255.254:43891 (size: 9.3 KiB, free: 2.2 GiB)\n",
      "25/03/30 17:52:33 INFO SparkContext: Created broadcast 0 from broadcast at DAGScheduler.scala:1580\n",
      "25/03/30 17:52:33 INFO DAGScheduler: Submitting 5 missing tasks from ShuffleMapStage 0 (MapPartitionsRDD[3] at show at cmd3.sc:2) (first 15 tasks are for partitions Vector(0, 1, 2, 3, 4))\n",
      "25/03/30 17:52:33 INFO TaskSchedulerImpl: Adding task set 0.0 with 5 tasks resource profile 0\n",
      "25/03/30 17:52:33 INFO TaskSetManager: Starting task 0.0 in stage 0.0 (TID 0) (10.255.255.254, executor driver, partition 0, PROCESS_LOCAL, 7920 bytes) \n",
      "25/03/30 17:52:33 INFO TaskSetManager: Starting task 1.0 in stage 0.0 (TID 1) (10.255.255.254, executor driver, partition 1, PROCESS_LOCAL, 7920 bytes) \n",
      "25/03/30 17:52:33 INFO TaskSetManager: Starting task 2.0 in stage 0.0 (TID 2) (10.255.255.254, executor driver, partition 2, PROCESS_LOCAL, 7920 bytes) \n",
      "25/03/30 17:52:33 INFO TaskSetManager: Starting task 3.0 in stage 0.0 (TID 3) (10.255.255.254, executor driver, partition 3, PROCESS_LOCAL, 7920 bytes) \n",
      "25/03/30 17:52:33 INFO TaskSetManager: Starting task 4.0 in stage 0.0 (TID 4) (10.255.255.254, executor driver, partition 4, PROCESS_LOCAL, 7920 bytes) \n",
      "25/03/30 17:52:33 INFO Executor: Running task 3.0 in stage 0.0 (TID 3)\n",
      "25/03/30 17:52:33 INFO Executor: Running task 2.0 in stage 0.0 (TID 2)\n",
      "25/03/30 17:52:33 INFO Executor: Running task 1.0 in stage 0.0 (TID 1)\n",
      "25/03/30 17:52:33 INFO Executor: Running task 4.0 in stage 0.0 (TID 4)\n",
      "25/03/30 17:52:33 INFO Executor: Running task 0.0 in stage 0.0 (TID 0)\n",
      "25/03/30 17:52:34 INFO CodeGenerator: Code generated in 7.652849 ms\n",
      "25/03/30 17:52:34 INFO CodeGenerator: Code generated in 5.921671 ms\n",
      "25/03/30 17:52:34 INFO CodeGenerator: Code generated in 13.592934 ms\n",
      "25/03/30 17:52:34 INFO CodeGenerator: Code generated in 7.460532 ms\n",
      "25/03/30 17:52:34 INFO CodeGenerator: Code generated in 9.042035 ms\n",
      "25/03/30 17:52:34 INFO CodeGenerator: Code generated in 12.556186 ms\n",
      "25/03/30 17:52:34 INFO Executor: Finished task 0.0 in stage 0.0 (TID 0). 2067 bytes result sent to driver\n",
      "25/03/30 17:52:34 INFO Executor: Finished task 2.0 in stage 0.0 (TID 2). 2067 bytes result sent to driver\n",
      "25/03/30 17:52:34 INFO Executor: Finished task 1.0 in stage 0.0 (TID 1). 2067 bytes result sent to driver\n",
      "25/03/30 17:52:34 INFO Executor: Finished task 3.0 in stage 0.0 (TID 3). 2067 bytes result sent to driver\n",
      "25/03/30 17:52:34 INFO Executor: Finished task 4.0 in stage 0.0 (TID 4). 2067 bytes result sent to driver\n",
      "25/03/30 17:52:34 INFO TaskSetManager: Finished task 3.0 in stage 0.0 (TID 3) in 270 ms on 10.255.255.254 (executor driver) (1/5)\n",
      "25/03/30 17:52:34 INFO TaskSetManager: Finished task 1.0 in stage 0.0 (TID 1) in 274 ms on 10.255.255.254 (executor driver) (2/5)\n",
      "25/03/30 17:52:34 INFO TaskSetManager: Finished task 0.0 in stage 0.0 (TID 0) in 290 ms on 10.255.255.254 (executor driver) (3/5)\n",
      "25/03/30 17:52:34 INFO TaskSetManager: Finished task 2.0 in stage 0.0 (TID 2) in 279 ms on 10.255.255.254 (executor driver) (4/5)\n",
      "25/03/30 17:52:34 INFO TaskSetManager: Finished task 4.0 in stage 0.0 (TID 4) in 279 ms on 10.255.255.254 (executor driver) (5/5)\n",
      "25/03/30 17:52:34 INFO TaskSchedulerImpl: Removed TaskSet 0.0, whose tasks have all completed, from pool \n",
      "25/03/30 17:52:34 INFO DAGScheduler: ShuffleMapStage 0 (show at cmd3.sc:2) finished in 0.496 s\n",
      "25/03/30 17:52:34 INFO DAGScheduler: looking for newly runnable stages\n",
      "25/03/30 17:52:34 INFO DAGScheduler: running: HashSet()\n",
      "25/03/30 17:52:34 INFO DAGScheduler: waiting: HashSet()\n",
      "25/03/30 17:52:34 INFO DAGScheduler: failed: HashSet()\n",
      "25/03/30 17:52:34 INFO SparkContext: Starting job: show at cmd3.sc:2\n",
      "25/03/30 17:52:34 INFO DAGScheduler: Got job 1 (show at cmd3.sc:2) with 1 output partitions\n",
      "25/03/30 17:52:34 INFO DAGScheduler: Final stage: ResultStage 2 (show at cmd3.sc:2)\n",
      "25/03/30 17:52:34 INFO DAGScheduler: Parents of final stage: List(ShuffleMapStage 1)\n",
      "25/03/30 17:52:34 INFO DAGScheduler: Missing parents: List()\n",
      "25/03/30 17:52:34 INFO DAGScheduler: Submitting ResultStage 2 (MapPartitionsRDD[6] at show at cmd3.sc:2), which has no missing parents\n",
      "25/03/30 17:52:34 INFO MemoryStore: Block broadcast_1 stored as values in memory (estimated size 26.9 KiB, free 2.2 GiB)\n",
      "25/03/30 17:52:34 INFO MemoryStore: Block broadcast_1_piece0 stored as bytes in memory (estimated size 11.5 KiB, free 2.2 GiB)\n",
      "25/03/30 17:52:34 INFO BlockManagerInfo: Added broadcast_1_piece0 in memory on 10.255.255.254:43891 (size: 11.5 KiB, free: 2.2 GiB)\n",
      "25/03/30 17:52:34 INFO SparkContext: Created broadcast 1 from broadcast at DAGScheduler.scala:1580\n",
      "25/03/30 17:52:34 INFO DAGScheduler: Submitting 1 missing tasks from ResultStage 2 (MapPartitionsRDD[6] at show at cmd3.sc:2) (first 15 tasks are for partitions Vector(0))\n",
      "25/03/30 17:52:34 INFO TaskSchedulerImpl: Adding task set 2.0 with 1 tasks resource profile 0\n",
      "25/03/30 17:52:34 INFO TaskSetManager: Starting task 0.0 in stage 2.0 (TID 5) (10.255.255.254, executor driver, partition 0, NODE_LOCAL, 7695 bytes) \n",
      "25/03/30 17:52:34 INFO Executor: Running task 0.0 in stage 2.0 (TID 5)\n",
      "25/03/30 17:52:34 INFO ShuffleBlockFetcherIterator: Getting 5 (330.0 B) non-empty blocks including 5 (330.0 B) local and 0 (0.0 B) host-local and 0 (0.0 B) push-merged-local and 0 (0.0 B) remote blocks\n",
      "25/03/30 17:52:34 INFO ShuffleBlockFetcherIterator: Started 0 remote fetches in 8 ms\n",
      "25/03/30 17:52:34 INFO CodeGenerator: Code generated in 9.617695 ms\n",
      "25/03/30 17:52:34 INFO CodeGenerator: Code generated in 6.01546 ms\n",
      "25/03/30 17:52:34 INFO CodeGenerator: Code generated in 6.168044 ms\n",
      "25/03/30 17:52:34 INFO Executor: Finished task 0.0 in stage 2.0 (TID 5). 4630 bytes result sent to driver\n",
      "25/03/30 17:52:34 INFO TaskSetManager: Finished task 0.0 in stage 2.0 (TID 5) in 127 ms on 10.255.255.254 (executor driver) (1/1)\n",
      "25/03/30 17:52:34 INFO TaskSchedulerImpl: Removed TaskSet 2.0, whose tasks have all completed, from pool \n",
      "25/03/30 17:52:34 INFO DAGScheduler: ResultStage 2 (show at cmd3.sc:2) finished in 0.146 s\n",
      "25/03/30 17:52:34 INFO DAGScheduler: Job 1 is finished. Cancelling potential speculative or zombie tasks for this job\n",
      "25/03/30 17:52:34 INFO TaskSchedulerImpl: Killing all running tasks in stage 2: Stage finished\n",
      "25/03/30 17:52:34 INFO DAGScheduler: Job 1 finished: show at cmd3.sc:2, took 0.170108 s\n",
      "25/03/30 17:52:34 INFO BlockManagerInfo: Removed broadcast_0_piece0 on 10.255.255.254:43891 in memory (size: 9.3 KiB, free: 2.2 GiB)\n",
      "25/03/30 17:52:34 INFO CodeGenerator: Code generated in 10.934518 ms\n"
     ]
    },
    {
     "name": "stdout",
     "output_type": "stream",
     "text": [
      "+---------+\n",
      "|total_sum|\n",
      "+---------+\n",
      "|       15|\n",
      "+---------+\n",
      "\n"
     ]
    },
    {
     "data": {
      "text/plain": [
       "\u001b[36mdf\u001b[39m: \u001b[32morg\u001b[39m.\u001b[32mapache\u001b[39m.\u001b[32mspark\u001b[39m.\u001b[32msql\u001b[39m.\u001b[32mpackage\u001b[39m.\u001b[32mDataFrame\u001b[39m = [value: int]"
      ]
     },
     "execution_count": 3,
     "metadata": {},
     "output_type": "execute_result"
    }
   ],
   "source": [
    "val df = Seq(1, 2, 3, 4, 5).toDF(\"value\")\n",
    "df.select(sumAll($\"value\").as(\"total_sum\")).show()"
   ]
  }
 ],
 "metadata": {
  "kernelspec": {
   "display_name": "Scala",
   "language": "scala",
   "name": "scala"
  },
  "language_info": {
   "codemirror_mode": "text/x-scala",
   "file_extension": ".sc",
   "mimetype": "text/x-scala",
   "name": "scala",
   "nbconvert_exporter": "script",
   "version": "2.13.16"
  }
 },
 "nbformat": 4,
 "nbformat_minor": 2
}
