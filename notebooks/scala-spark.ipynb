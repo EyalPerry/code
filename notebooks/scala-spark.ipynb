{
 "cells": [
  {
   "cell_type": "code",
   "execution_count": 2,
   "metadata": {},
   "outputs": [
    {
     "name": "stderr",
     "output_type": "stream",
     "text": [
      "25/03/30 15:27:12 INFO SharedState: Setting hive.metastore.warehouse.dir ('null') to the value of spark.sql.warehouse.dir.\n",
      "25/03/30 15:27:12 INFO SharedState: Warehouse path is 'file:/home/eyal/code/notebooks/spark-warehouse'.\n"
     ]
    },
    {
     "data": {
      "text/plain": [
       "\u001b[32mimport \u001b[39m\u001b[36m$ivy.$\u001b[39m\n",
       "\u001b[32mimport \u001b[39m\u001b[36morg.apache.spark.sql.SparkSession\u001b[39m\n",
       "\u001b[36mspark\u001b[39m: \u001b[32mSparkSession\u001b[39m = org.apache.spark.sql.SparkSession@6e3a128b\n",
       "\u001b[32mimport \u001b[39m\u001b[36mspark.implicits._\u001b[39m"
      ]
     },
     "execution_count": 2,
     "metadata": {},
     "output_type": "execute_result"
    }
   ],
   "source": [
    "import $ivy.`org.apache.spark:spark-sql_2.13:3.5.0`\n",
    "\n",
    "import org.apache.spark.sql.SparkSession\n",
    "\n",
    "val spark = SparkSession.builder()\n",
    "  .appName(\"ScalaSpark\")\n",
    "  .master(\"local[*]\")\n",
    "  .getOrCreate()\n",
    "\n",
    "import spark.implicits._\n"
   ]
  },
  {
   "cell_type": "code",
   "execution_count": 4,
   "metadata": {},
   "outputs": [
    {
     "data": {
      "text/plain": [
       "\u001b[32mimport \u001b[39m\u001b[36morg.apache.spark.sql.expressions.Aggregator\u001b[39m\n",
       "\u001b[32mimport \u001b[39m\u001b[36morg.apache.spark.sql.Encoders\u001b[39m\n",
       "\u001b[32mimport \u001b[39m\u001b[36morg.apache.spark.sql.functions.udaf\u001b[39m\n",
       "defined \u001b[32mclass\u001b[39m \u001b[36mIntSumBuffer\u001b[39m\n",
       "defined \u001b[32mobject\u001b[39m \u001b[36mSumAll\u001b[39m\n",
       "\u001b[36msumAll\u001b[39m: \u001b[32morg\u001b[39m.\u001b[32mapache\u001b[39m.\u001b[32mspark\u001b[39m.\u001b[32msql\u001b[39m.\u001b[32mexpressions\u001b[39m.\u001b[32mUserDefinedFunction\u001b[39m = \u001b[33mUserDefinedAggregator\u001b[39m(\n",
       "  aggregator = ammonite.$sess.cmd4$Helper$SumAll$@25d55b21,\n",
       "  inputEncoder = \u001b[33mExpressionEncoder\u001b[39m(\n",
       "    objSerializer = \u001b[33mBoundReference\u001b[39m(\n",
       "      ordinal = \u001b[32m0\u001b[39m,\n",
       "      dataType = IntegerType,\n",
       "      nullable = \u001b[32mfalse\u001b[39m\n",
       "    ),\n",
       "    objDeserializer = \u001b[33mAssertNotNull\u001b[39m(\n",
       "      child = \u001b[33mUpCast\u001b[39m(\n",
       "        child = \u001b[33mGetColumnByOrdinal\u001b[39m(ordinal = \u001b[32m0\u001b[39m, dataType = IntegerType),\n",
       "        target = IntegerType,\n",
       "        walkedTypePath = \u001b[33mList\u001b[39m(\u001b[32m\"- root class: \\\"int\\\"\"\u001b[39m)\n",
       "      ),\n",
       "      walkedTypePath = \u001b[33mList\u001b[39m(\u001b[32m\"- root class: \\\"int\\\"\"\u001b[39m)\n",
       "    ),\n",
       "    clsTag = Int\n",
       "  ),\n",
       "  name = \u001b[32mNone\u001b[39m,\n",
       "  nullable = \u001b[32mtrue\u001b[39m,\n",
       "  deterministic = \u001b[32mtrue\u001b[39m\n",
       ")"
      ]
     },
     "execution_count": 4,
     "metadata": {},
     "output_type": "execute_result"
    }
   ],
   "source": [
    "import org.apache.spark.sql.expressions.Aggregator\n",
    "import org.apache.spark.sql.Encoders\n",
    "import org.apache.spark.sql.functions.udaf\n",
    "\n",
    "case class IntSumBuffer(var sum: Long = 0L)\n",
    "\n",
    "object SumAll extends Aggregator[Int, IntSumBuffer, Long] {\n",
    "  def zero = IntSumBuffer(0L)\n",
    "  def reduce(buffer: IntSumBuffer, value: Int): IntSumBuffer = {\n",
    "    buffer.sum += value\n",
    "    buffer\n",
    "  }\n",
    "  def merge(b1: IntSumBuffer, b2: IntSumBuffer): IntSumBuffer = {\n",
    "    b1.sum += b2.sum\n",
    "    b1\n",
    "  }\n",
    "  def finish(reduction: IntSumBuffer): Long = reduction.sum\n",
    "  def bufferEncoder = Encoders.product[IntSumBuffer]\n",
    "  def outputEncoder = Encoders.scalaLong\n",
    "}\n",
    "\n",
    "val sumAll = udaf(SumAll)\n"
   ]
  },
  {
   "cell_type": "code",
   "execution_count": 5,
   "metadata": {},
   "outputs": [
    {
     "name": "stderr",
     "output_type": "stream",
     "text": [
      "25/03/30 15:29:11 INFO DAGScheduler: Registering RDD 3 (show at cmd5.sc:2) as input to shuffle 0\n",
      "25/03/30 15:29:11 INFO DAGScheduler: Got map stage job 0 (show at cmd5.sc:2) with 5 output partitions\n",
      "25/03/30 15:29:11 INFO DAGScheduler: Final stage: ShuffleMapStage 0 (show at cmd5.sc:2)\n",
      "25/03/30 15:29:11 INFO DAGScheduler: Parents of final stage: List()\n",
      "25/03/30 15:29:11 INFO DAGScheduler: Missing parents: List()\n",
      "25/03/30 15:29:11 INFO DAGScheduler: Submitting ShuffleMapStage 0 (MapPartitionsRDD[3] at show at cmd5.sc:2), which has no missing parents\n",
      "25/03/30 15:29:11 INFO MemoryStore: Block broadcast_0 stored as values in memory (estimated size 21.3 KiB, free 2.2 GiB)\n",
      "25/03/30 15:29:11 INFO MemoryStore: Block broadcast_0_piece0 stored as bytes in memory (estimated size 9.3 KiB, free 2.2 GiB)\n",
      "25/03/30 15:29:11 INFO BlockManagerInfo: Added broadcast_0_piece0 in memory on 10.255.255.254:34797 (size: 9.3 KiB, free: 2.2 GiB)\n",
      "25/03/30 15:29:11 INFO SparkContext: Created broadcast 0 from broadcast at DAGScheduler.scala:1580\n",
      "25/03/30 15:29:11 INFO DAGScheduler: Submitting 5 missing tasks from ShuffleMapStage 0 (MapPartitionsRDD[3] at show at cmd5.sc:2) (first 15 tasks are for partitions Vector(0, 1, 2, 3, 4))\n",
      "25/03/30 15:29:11 INFO TaskSchedulerImpl: Adding task set 0.0 with 5 tasks resource profile 0\n",
      "25/03/30 15:29:11 INFO TaskSetManager: Starting task 0.0 in stage 0.0 (TID 0) (10.255.255.254, executor driver, partition 0, PROCESS_LOCAL, 7920 bytes) \n",
      "25/03/30 15:29:11 INFO TaskSetManager: Starting task 1.0 in stage 0.0 (TID 1) (10.255.255.254, executor driver, partition 1, PROCESS_LOCAL, 7920 bytes) \n",
      "25/03/30 15:29:11 INFO TaskSetManager: Starting task 2.0 in stage 0.0 (TID 2) (10.255.255.254, executor driver, partition 2, PROCESS_LOCAL, 7920 bytes) \n",
      "25/03/30 15:29:11 INFO TaskSetManager: Starting task 3.0 in stage 0.0 (TID 3) (10.255.255.254, executor driver, partition 3, PROCESS_LOCAL, 7920 bytes) \n",
      "25/03/30 15:29:11 INFO TaskSetManager: Starting task 4.0 in stage 0.0 (TID 4) (10.255.255.254, executor driver, partition 4, PROCESS_LOCAL, 7920 bytes) \n",
      "25/03/30 15:29:11 INFO Executor: Running task 3.0 in stage 0.0 (TID 3)\n",
      "25/03/30 15:29:11 INFO Executor: Running task 2.0 in stage 0.0 (TID 2)\n",
      "25/03/30 15:29:11 INFO Executor: Running task 1.0 in stage 0.0 (TID 1)\n",
      "25/03/30 15:29:11 INFO Executor: Running task 4.0 in stage 0.0 (TID 4)\n",
      "25/03/30 15:29:11 INFO Executor: Running task 0.0 in stage 0.0 (TID 0)\n",
      "25/03/30 15:29:11 INFO CodeGenerator: Code generated in 6.69332 ms\n",
      "25/03/30 15:29:11 INFO CodeGenerator: Code generated in 5.431572 ms\n",
      "25/03/30 15:29:11 INFO CodeGenerator: Code generated in 12.877076 ms\n",
      "25/03/30 15:29:11 INFO CodeGenerator: Code generated in 5.613752 ms\n",
      "25/03/30 15:29:11 INFO CodeGenerator: Code generated in 9.978191 ms\n",
      "25/03/30 15:29:11 INFO CodeGenerator: Code generated in 9.009229 ms\n",
      "25/03/30 15:29:11 INFO Executor: Finished task 2.0 in stage 0.0 (TID 2). 2110 bytes result sent to driver\n",
      "25/03/30 15:29:11 INFO Executor: Finished task 4.0 in stage 0.0 (TID 4). 2110 bytes result sent to driver\n",
      "25/03/30 15:29:11 INFO Executor: Finished task 3.0 in stage 0.0 (TID 3). 2110 bytes result sent to driver\n",
      "25/03/30 15:29:11 INFO Executor: Finished task 1.0 in stage 0.0 (TID 1). 2110 bytes result sent to driver\n",
      "25/03/30 15:29:11 INFO Executor: Finished task 0.0 in stage 0.0 (TID 0). 2110 bytes result sent to driver\n",
      "25/03/30 15:29:11 INFO TaskSetManager: Finished task 2.0 in stage 0.0 (TID 2) in 283 ms on 10.255.255.254 (executor driver) (1/5)\n",
      "25/03/30 15:29:11 INFO TaskSetManager: Finished task 1.0 in stage 0.0 (TID 1) in 287 ms on 10.255.255.254 (executor driver) (2/5)\n",
      "25/03/30 15:29:11 INFO TaskSetManager: Finished task 3.0 in stage 0.0 (TID 3) in 289 ms on 10.255.255.254 (executor driver) (3/5)\n",
      "25/03/30 15:29:11 INFO TaskSetManager: Finished task 4.0 in stage 0.0 (TID 4) in 290 ms on 10.255.255.254 (executor driver) (4/5)\n",
      "25/03/30 15:29:11 INFO TaskSetManager: Finished task 0.0 in stage 0.0 (TID 0) in 306 ms on 10.255.255.254 (executor driver) (5/5)\n",
      "25/03/30 15:29:11 INFO TaskSchedulerImpl: Removed TaskSet 0.0, whose tasks have all completed, from pool \n",
      "25/03/30 15:29:11 INFO DAGScheduler: ShuffleMapStage 0 (show at cmd5.sc:2) finished in 0.507 s\n",
      "25/03/30 15:29:11 INFO DAGScheduler: looking for newly runnable stages\n",
      "25/03/30 15:29:11 INFO DAGScheduler: running: HashSet()\n",
      "25/03/30 15:29:11 INFO DAGScheduler: waiting: HashSet()\n",
      "25/03/30 15:29:11 INFO DAGScheduler: failed: HashSet()\n",
      "25/03/30 15:29:12 INFO SparkContext: Starting job: show at cmd5.sc:2\n",
      "25/03/30 15:29:12 INFO DAGScheduler: Got job 1 (show at cmd5.sc:2) with 1 output partitions\n",
      "25/03/30 15:29:12 INFO DAGScheduler: Final stage: ResultStage 2 (show at cmd5.sc:2)\n",
      "25/03/30 15:29:12 INFO DAGScheduler: Parents of final stage: List(ShuffleMapStage 1)\n",
      "25/03/30 15:29:12 INFO DAGScheduler: Missing parents: List()\n",
      "25/03/30 15:29:12 INFO DAGScheduler: Submitting ResultStage 2 (MapPartitionsRDD[6] at show at cmd5.sc:2), which has no missing parents\n",
      "25/03/30 15:29:12 INFO MemoryStore: Block broadcast_1 stored as values in memory (estimated size 26.9 KiB, free 2.2 GiB)\n",
      "25/03/30 15:29:12 INFO MemoryStore: Block broadcast_1_piece0 stored as bytes in memory (estimated size 11.6 KiB, free 2.2 GiB)\n",
      "25/03/30 15:29:12 INFO BlockManagerInfo: Added broadcast_1_piece0 in memory on 10.255.255.254:34797 (size: 11.6 KiB, free: 2.2 GiB)\n",
      "25/03/30 15:29:12 INFO SparkContext: Created broadcast 1 from broadcast at DAGScheduler.scala:1580\n",
      "25/03/30 15:29:12 INFO DAGScheduler: Submitting 1 missing tasks from ResultStage 2 (MapPartitionsRDD[6] at show at cmd5.sc:2) (first 15 tasks are for partitions Vector(0))\n",
      "25/03/30 15:29:12 INFO TaskSchedulerImpl: Adding task set 2.0 with 1 tasks resource profile 0\n",
      "25/03/30 15:29:12 INFO TaskSetManager: Starting task 0.0 in stage 2.0 (TID 5) (10.255.255.254, executor driver, partition 0, NODE_LOCAL, 7695 bytes) \n",
      "25/03/30 15:29:12 INFO Executor: Running task 0.0 in stage 2.0 (TID 5)\n",
      "25/03/30 15:29:12 INFO ShuffleBlockFetcherIterator: Getting 5 (330.0 B) non-empty blocks including 5 (330.0 B) local and 0 (0.0 B) host-local and 0 (0.0 B) push-merged-local and 0 (0.0 B) remote blocks\n",
      "25/03/30 15:29:12 INFO ShuffleBlockFetcherIterator: Started 0 remote fetches in 8 ms\n",
      "25/03/30 15:29:12 INFO CodeGenerator: Code generated in 9.50863 ms\n",
      "25/03/30 15:29:12 INFO CodeGenerator: Code generated in 5.385405 ms\n",
      "25/03/30 15:29:12 INFO CodeGenerator: Code generated in 5.62943 ms\n",
      "25/03/30 15:29:12 INFO Executor: Finished task 0.0 in stage 2.0 (TID 5). 4587 bytes result sent to driver\n",
      "25/03/30 15:29:12 INFO TaskSetManager: Finished task 0.0 in stage 2.0 (TID 5) in 116 ms on 10.255.255.254 (executor driver) (1/1)\n",
      "25/03/30 15:29:12 INFO TaskSchedulerImpl: Removed TaskSet 2.0, whose tasks have all completed, from pool \n",
      "25/03/30 15:29:12 INFO DAGScheduler: ResultStage 2 (show at cmd5.sc:2) finished in 0.134 s\n",
      "25/03/30 15:29:12 INFO DAGScheduler: Job 1 is finished. Cancelling potential speculative or zombie tasks for this job\n",
      "25/03/30 15:29:12 INFO TaskSchedulerImpl: Killing all running tasks in stage 2: Stage finished\n",
      "25/03/30 15:29:12 INFO DAGScheduler: Job 1 finished: show at cmd5.sc:2, took 0.153398 s\n",
      "25/03/30 15:29:12 INFO CodeGenerator: Code generated in 9.183949 ms\n"
     ]
    },
    {
     "name": "stdout",
     "output_type": "stream",
     "text": [
      "+---------+\n",
      "|total_sum|\n",
      "+---------+\n",
      "|       15|\n",
      "+---------+\n",
      "\n"
     ]
    },
    {
     "data": {
      "text/plain": [
       "\u001b[36mdf\u001b[39m: \u001b[32morg\u001b[39m.\u001b[32mapache\u001b[39m.\u001b[32mspark\u001b[39m.\u001b[32msql\u001b[39m.\u001b[32mpackage\u001b[39m.\u001b[32mDataFrame\u001b[39m = [value: int]"
      ]
     },
     "execution_count": 5,
     "metadata": {},
     "output_type": "execute_result"
    }
   ],
   "source": [
    "val df = Seq(1, 2, 3, 4, 5).toDF(\"value\")\n",
    "df.select(sumAll($\"value\").as(\"total_sum\")).show()"
   ]
  }
 ],
 "metadata": {
  "kernelspec": {
   "display_name": "Scala",
   "language": "scala",
   "name": "scala"
  },
  "language_info": {
   "codemirror_mode": "text/x-scala",
   "file_extension": ".sc",
   "mimetype": "text/x-scala",
   "name": "scala",
   "nbconvert_exporter": "script",
   "version": "2.13.16"
  }
 },
 "nbformat": 4,
 "nbformat_minor": 2
}
