{
 "cells": [
  {
   "cell_type": "code",
   "execution_count": null,
   "metadata": {},
   "outputs": [
    {
     "name": "stderr",
     "output_type": "stream",
     "text": [
      "Pulling image confluentinc/cp-kafka:7.6.0\n",
      "Container started: c69a18ec9e42\n",
      "Waiting for container <Container: c69a18ec9e42> with image confluentinc/cp-kafka:7.6.0 to be ready ...\n",
      "Pulling image confluentinc/cp-kafka:7.6.0\n",
      "Container started: f5b4c845d408\n",
      "Waiting for container <Container: f5b4c845d408> with image confluentinc/cp-kafka:7.6.0 to be ready ...\n",
      "Waiting for container <Container: f5b4c845d408> with image confluentinc/cp-kafka:7.6.0 to be ready ...\n",
      "25/03/30 12:04:27 WARN AdminClientConfig: These configurations '[key.deserializer, value.deserializer, enable.auto.commit, max.poll.records, auto.offset.reset]' were supplied but are not used yet.\n"
     ]
    },
    {
     "name": "stdout",
     "output_type": "stream",
     "text": [
      "+-------------------+\n",
      "|              value|\n",
      "+-------------------+\n",
      "|hello from demo app|\n",
      "+-------------------+\n",
      "\n"
     ]
    }
   ],
   "source": [
    "from testcontainers.kafka import KafkaContainer\n",
    "from kafka import KafkaProducer\n",
    "\n",
    "def import_src():\n",
    "    import sys\n",
    "    import os\n",
    "\n",
    "    # Add the project root to the path\n",
    "    sys.path.append(os.path.abspath(\"..\"))\n",
    "    # Import your module\n",
    "\n",
    "import_src()\n",
    "from src import *\n",
    "\n",
    "# Start Kafka in a Docker container\n",
    "with KafkaContainer() as kafka:\n",
    "    kafka.start()\n",
    "    bootstrap_server = kafka.get_bootstrap_server()\n",
    "\n",
    "    # Produce a message\n",
    "    producer = KafkaProducer(bootstrap_servers=bootstrap_server)\n",
    "    producer.send(\"my-topic\", b\"hello from demo app\")\n",
    "    producer.flush()\n",
    "\n",
    "    spark = init_spark()\n",
    "\n",
    "    df = spark.read \\\n",
    "    .format(\"kafka\") \\\n",
    "    .option(\"kafka.bootstrap.servers\", bootstrap_server) \\\n",
    "    .option(\"subscribe\", \"my-topic\") \\\n",
    "    .load() \\\n",
    "    .selectExpr(\"CAST(value AS STRING)\")\n",
    "\n",
    "    df.show()\n",
    "\n",
    "    \n"
   ]
  }
 ],
 "metadata": {
  "kernelspec": {
   "display_name": "venv",
   "language": "python",
   "name": "python3"
  },
  "language_info": {
   "codemirror_mode": {
    "name": "ipython",
    "version": 3
   },
   "file_extension": ".py",
   "mimetype": "text/x-python",
   "name": "python",
   "nbconvert_exporter": "python",
   "pygments_lexer": "ipython3",
   "version": "3.12.3"
  }
 },
 "nbformat": 4,
 "nbformat_minor": 2
}
