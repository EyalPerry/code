{
 "cells": [
  {
   "cell_type": "code",
   "execution_count": 2,
   "metadata": {},
   "outputs": [
    {
     "name": "stderr",
     "output_type": "stream",
     "text": [
      "Pulling image testcontainers/ryuk:0.8.1\n"
     ]
    },
    {
     "name": "stderr",
     "output_type": "stream",
     "text": [
      "Container started: c743c3e0fcda\n",
      "Waiting for container <Container: c743c3e0fcda> with image testcontainers/ryuk:0.8.1 to be ready ...\n",
      "Pulling image confluentinc/cp-kafka:7.6.0\n",
      "Container started: 53bdf315b20e\n",
      "Waiting for container <Container: 53bdf315b20e> with image confluentinc/cp-kafka:7.6.0 to be ready ...\n",
      "Pulling image confluentinc/cp-kafka:7.6.0\n",
      "Container started: d5c6e00f27b6\n",
      "Waiting for container <Container: d5c6e00f27b6> with image confluentinc/cp-kafka:7.6.0 to be ready ...\n",
      "Waiting for container <Container: d5c6e00f27b6> with image confluentinc/cp-kafka:7.6.0 to be ready ...\n"
     ]
    },
    {
     "name": "stdout",
     "output_type": "stream",
     "text": [
      "Received: hello from testcontainers\n"
     ]
    }
   ],
   "source": [
    "from testcontainers.kafka import KafkaContainer\n",
    "from kafka import KafkaProducer, KafkaConsumer\n",
    "import time\n",
    "\n",
    "# Start Kafka in a Docker container\n",
    "with KafkaContainer() as kafka:\n",
    "    kafka.start()\n",
    "    bootstrap_server = kafka.get_bootstrap_server()\n",
    "\n",
    "    # Produce a message\n",
    "    producer = KafkaProducer(bootstrap_servers=bootstrap_server)\n",
    "    producer.send(\"my-topic\", b\"hello from testcontainers\")\n",
    "    producer.flush()\n",
    "\n",
    "    # Consume the message\n",
    "    consumer = KafkaConsumer(\n",
    "        \"my-topic\",\n",
    "        bootstrap_servers=bootstrap_server,\n",
    "        auto_offset_reset=\"earliest\",\n",
    "        consumer_timeout_ms=5000\n",
    "    )\n",
    "\n",
    "    for msg in consumer:\n",
    "        print(f\"Received: {msg.value.decode()}\")\n",
    "        break\n"
   ]
  }
 ],
 "metadata": {
  "kernelspec": {
   "display_name": "venv",
   "language": "python",
   "name": "python3"
  },
  "language_info": {
   "codemirror_mode": {
    "name": "ipython",
    "version": 3
   },
   "file_extension": ".py",
   "mimetype": "text/x-python",
   "name": "python",
   "nbconvert_exporter": "python",
   "pygments_lexer": "ipython3",
   "version": "3.12.3"
  }
 },
 "nbformat": 4,
 "nbformat_minor": 2
}
