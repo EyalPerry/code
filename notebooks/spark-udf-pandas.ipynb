{
 "cells": [
  {
   "cell_type": "code",
   "execution_count": 2,
   "metadata": {},
   "outputs": [],
   "source": [
    "from pyspark.sql.functions import pandas_udf\n",
    "import pandas as pd\n",
    "\n",
    "def import_src():\n",
    "    import sys\n",
    "    import os\n",
    "\n",
    "    # Add the project root to the path\n",
    "    sys.path.append(os.path.abspath(\"..\"))\n",
    "    # Import your module\n",
    "\n",
    "import_src()\n",
    "from src import *\n",
    "\n",
    "def temp_folder(path: str) -> str:\n",
    "    return \"../local/\" + path\n",
    "\n",
    "table_path = temp_folder(\"delta/test\")\n",
    "\n",
    "spark = init_spark()\n",
    "\n",
    "@pandas_udf(\"int\")  # Return type\n",
    "def add_one(batch: pd.Series) -> pd.Series:\n",
    "    return batch + 1\n",
    "\n",
    "df = spark.read.format(\"delta\").load(table_path)\n"
   ]
  },
  {
   "cell_type": "code",
   "execution_count": 3,
   "metadata": {},
   "outputs": [
    {
     "name": "stdout",
     "output_type": "stream",
     "text": [
      "+---+---+-------+----------+-------------------+--------+\n",
      "|  a|  b|      c|         d|                  e|plus_one|\n",
      "+---+---+-------+----------+-------------------+--------+\n",
      "|  1|2.0|string1|2000-01-01|2000-01-01 12:00:00|       2|\n",
      "|  2|3.0|string2|2000-02-01|2000-01-02 12:00:00|       3|\n",
      "|  4|5.0|string3|2000-03-01|2000-01-03 12:00:00|       5|\n",
      "+---+---+-------+----------+-------------------+--------+\n",
      "\n"
     ]
    }
   ],
   "source": [
    "result = df.withColumn(\"plus_one\", add_one(df[\"a\"]))\n",
    "result.show()"
   ]
  }
 ],
 "metadata": {
  "kernelspec": {
   "display_name": "venv",
   "language": "python",
   "name": "python3"
  },
  "language_info": {
   "codemirror_mode": {
    "name": "ipython",
    "version": 3
   },
   "file_extension": ".py",
   "mimetype": "text/x-python",
   "name": "python",
   "nbconvert_exporter": "python",
   "pygments_lexer": "ipython3",
   "version": "3.12.3"
  }
 },
 "nbformat": 4,
 "nbformat_minor": 2
}
