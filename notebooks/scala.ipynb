{
 "cells": [
  {
   "cell_type": "code",
   "execution_count": 1,
   "metadata": {},
   "outputs": [
    {
     "data": {
      "text/plain": [
       "\u001b[36mres1\u001b[39m: \u001b[32mString\u001b[39m = \u001b[32m\"version 2.13.16\"\u001b[39m"
      ]
     },
     "execution_count": 1,
     "metadata": {},
     "output_type": "execute_result"
    }
   ],
   "source": [
    "scala.util.Properties.versionString"
   ]
  },
  {
   "cell_type": "code",
   "execution_count": 2,
   "metadata": {},
   "outputs": [
    {
     "name": "stderr",
     "output_type": "stream",
     "text": [
      "Using Spark's default log4j profile: org/apache/spark/log4j2-defaults.properties\n",
      "25/03/30 13:39:51 WARN Utils: Your hostname, DESKTOP-CN01VS3 resolves to a loopback address: 127.0.1.1; using 10.255.255.254 instead (on interface lo)\n",
      "25/03/30 13:39:51 WARN Utils: Set SPARK_LOCAL_IP if you need to bind to another address\n",
      "25/03/30 13:39:51 INFO SparkContext: Running Spark version 3.5.0\n",
      "25/03/30 13:39:51 INFO SparkContext: OS info Linux, 5.15.167.4-microsoft-standard-WSL2, amd64\n",
      "25/03/30 13:39:51 INFO SparkContext: Java version 17.0.14\n",
      "25/03/30 13:39:51 WARN NativeCodeLoader: Unable to load native-hadoop library for your platform... using builtin-java classes where applicable\n",
      "25/03/30 13:39:51 INFO ResourceUtils: ==============================================================\n",
      "25/03/30 13:39:51 INFO ResourceUtils: No custom resources configured for spark.driver.\n",
      "25/03/30 13:39:51 INFO ResourceUtils: ==============================================================\n",
      "25/03/30 13:39:51 INFO SparkContext: Submitted application: ScalaSpark\n",
      "25/03/30 13:39:51 INFO ResourceProfile: Default ResourceProfile created, executor resources: Map(cores -> name: cores, amount: 1, script: , vendor: , memory -> name: memory, amount: 1024, script: , vendor: , offHeap -> name: offHeap, amount: 0, script: , vendor: ), task resources: Map(cpus -> name: cpus, amount: 1.0)\n",
      "25/03/30 13:39:51 INFO ResourceProfile: Limiting resource is cpu\n",
      "25/03/30 13:39:51 INFO ResourceProfileManager: Added ResourceProfile id: 0\n",
      "25/03/30 13:39:51 INFO SecurityManager: Changing view acls to: eyal\n",
      "25/03/30 13:39:51 INFO SecurityManager: Changing modify acls to: eyal\n",
      "25/03/30 13:39:51 INFO SecurityManager: Changing view acls groups to: \n",
      "25/03/30 13:39:51 INFO SecurityManager: Changing modify acls groups to: \n",
      "25/03/30 13:39:51 INFO SecurityManager: SecurityManager: authentication disabled; ui acls disabled; users with view permissions: eyal; groups with view permissions: EMPTY; users with modify permissions: eyal; groups with modify permissions: EMPTY\n",
      "25/03/30 13:39:51 INFO Utils: Successfully started service 'sparkDriver' on port 45191.\n",
      "25/03/30 13:39:51 INFO SparkEnv: Registering MapOutputTracker\n",
      "25/03/30 13:39:51 INFO SparkEnv: Registering BlockManagerMaster\n",
      "25/03/30 13:39:51 INFO BlockManagerMasterEndpoint: Using org.apache.spark.storage.DefaultTopologyMapper for getting topology information\n",
      "25/03/30 13:39:51 INFO BlockManagerMasterEndpoint: BlockManagerMasterEndpoint up\n"
     ]
    },
    {
     "ename": "java.lang.IllegalAccessError",
     "evalue": "class org.apache.spark.storage.StorageUtils$ (in unnamed module @0x5c6db11) cannot access class sun.nio.ch.DirectBuffer (in module java.base) because module java.base does not export sun.nio.ch to unnamed module @0x5c6db11",
     "output_type": "error",
     "traceback": [
      "\u001b[31mjava.lang.IllegalAccessError: class org.apache.spark.storage.StorageUtils$ (in unnamed module @0x5c6db11) cannot access class sun.nio.ch.DirectBuffer (in module java.base) because module java.base does not export sun.nio.ch to unnamed module @0x5c6db11\u001b[39m",
      "  org.apache.spark.storage.StorageUtils$.<clinit>(\u001b[32mStorageUtils.scala\u001b[39m:\u001b[32m213\u001b[39m)",
      "  org.apache.spark.storage.BlockManagerMasterEndpoint.<init>(\u001b[32mBlockManagerMasterEndpoint.scala\u001b[39m:\u001b[32m121\u001b[39m)",
      "  org.apache.spark.SparkEnv$.$anonfun$create$9(\u001b[32mSparkEnv.scala\u001b[39m:\u001b[32m358\u001b[39m)",
      "  org.apache.spark.SparkEnv$.registerOrLookupEndpoint$1(\u001b[32mSparkEnv.scala\u001b[39m:\u001b[32m295\u001b[39m)",
      "  org.apache.spark.SparkEnv$.create(\u001b[32mSparkEnv.scala\u001b[39m:\u001b[32m344\u001b[39m)",
      "  org.apache.spark.SparkEnv$.createDriverEnv(\u001b[32mSparkEnv.scala\u001b[39m:\u001b[32m196\u001b[39m)",
      "  org.apache.spark.SparkContext.createSparkEnv(\u001b[32mSparkContext.scala\u001b[39m:\u001b[32m284\u001b[39m)",
      "  org.apache.spark.SparkContext.<init>(\u001b[32mSparkContext.scala\u001b[39m:\u001b[32m483\u001b[39m)",
      "  org.apache.spark.SparkContext$.getOrCreate(\u001b[32mSparkContext.scala\u001b[39m:\u001b[32m2888\u001b[39m)",
      "  org.apache.spark.sql.SparkSession$Builder.$anonfun$getOrCreate$2(\u001b[32mSparkSession.scala\u001b[39m:\u001b[32m1099\u001b[39m)",
      "  scala.Option.getOrElse(\u001b[32mOption.scala\u001b[39m:\u001b[32m201\u001b[39m)",
      "  org.apache.spark.sql.SparkSession$Builder.getOrCreate(\u001b[32mSparkSession.scala\u001b[39m:\u001b[32m1093\u001b[39m)",
      "  ammonite.$sess.cmd2$Helper.<init>(\u001b[32mcmd2.sc\u001b[39m:\u001b[32m7\u001b[39m)",
      "  ammonite.$sess.cmd2$.<clinit>(\u001b[32mcmd2.sc\u001b[39m:\u001b[32m7\u001b[39m)"
     ]
    }
   ],
   "source": [
    "import $ivy.`org.apache.spark:spark-sql_2.13:3.5.0`\n",
    "\n",
    "import org.apache.spark.sql.SparkSession\n",
    "\n",
    "val spark = SparkSession.builder()\n",
    "  .appName(\"ScalaSpark\")\n",
    "  .master(\"local[*]\")\n",
    "  .getOrCreate()"
   ]
  },
  {
   "cell_type": "code",
   "execution_count": null,
   "metadata": {},
   "outputs": [],
   "source": []
  }
 ],
 "metadata": {
  "kernelspec": {
   "display_name": "Scala",
   "language": "scala",
   "name": "scala"
  },
  "language_info": {
   "codemirror_mode": "text/x-scala",
   "file_extension": ".sc",
   "mimetype": "text/x-scala",
   "name": "scala",
   "nbconvert_exporter": "script",
   "version": "2.13.16"
  }
 },
 "nbformat": 4,
 "nbformat_minor": 2
}
