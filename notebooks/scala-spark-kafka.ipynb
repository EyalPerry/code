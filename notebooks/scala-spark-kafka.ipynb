{
 "cells": [
  {
   "cell_type": "code",
   "execution_count": null,
   "metadata": {},
   "outputs": [],
   "source": [
    "import $ivy.`org.apache.spark:spark-sql_2.13:3.5.0`\n",
    "import $ivy.`org.apache.spark:spark-sql-kafka-0-10_2.13:3.5.0`\n",
    "\n",
    "import $ivy.`org.apache.kafka:kafka-clients:3.5.1`\n",
    "import $ivy.`org.testcontainers:testcontainers:1.19.3`\n",
    "import $ivy.`org.testcontainers:kafka:1.19.3`"
   ]
  },
  {
   "cell_type": "code",
   "execution_count": null,
   "metadata": {},
   "outputs": [],
   "source": [
    "\n",
    "import org.apache.spark.sql.{SparkSession, DataFrame}\n",
    "import org.apache.kafka.clients.producer._\n",
    "\n",
    "import org.testcontainers.containers.KafkaContainer\n",
    "import org.testcontainers.utility.DockerImageName\n",
    "import java.util.Properties\n",
    "\n",
    "val spark = SparkSession.builder()\n",
    "  .appName(\"ScalaSpark\")\n",
    "  .master(\"local[*]\")\n",
    "  .getOrCreate()\n",
    "\n",
    "import spark.implicits._\n",
    "\n",
    "val kafkaContainer = new KafkaContainer()\n",
    "\n",
    "kafkaContainer.start()\n",
    "\n",
    "val bootstrapServers = kafkaContainer.getBootstrapServers\n",
    "val kafkaProps = new Properties()\n",
    "kafkaProps.put(\"bootstrap.servers\", bootstrapServers)\n",
    "kafkaProps.put(\"key.serializer\", \"org.apache.kafka.common.serialization.StringSerializer\")\n",
    "kafkaProps.put(\"value.serializer\", \"org.apache.kafka.common.serialization.StringSerializer\")\n",
    "\n",
    "val kafkaProducer = new KafkaProducer[String, String](kafkaProps)\n",
    "\n",
    "def sendToKafka(topic: String, values: Seq[String]): Unit = {\n",
    " \n",
    "  values.foreach { value =>\n",
    "    val record = new ProducerRecord[String, String](topic, value)\n",
    "    kafkaProducer.send(record)\n",
    "  }\n",
    "  kafkaProducer.flush()\n",
    "}\n",
    "\n",
    "def readFromKafkaSpark(topic: String): DataFrame = {\n",
    "  spark.read\n",
    "  .format(\"kafka\")\n",
    "  .option(\"kafka.bootstrap.servers\", bootstrapServers)\n",
    "  .option(\"subscribe\", topic)\n",
    "  .load()\n",
    "  .selectExpr(\"CAST(value AS STRING) as message\")\n",
    "}\n",
    "\n",
    "val kafkaTopic = \"my-topic-scala\"\n"
   ]
  },
  {
   "cell_type": "code",
   "execution_count": null,
   "metadata": {},
   "outputs": [],
   "source": [
    "val data = Seq(\"hi\", \"there\", \"from\", \"scala\")\n",
    "\n",
    "sendToKafka(kafkaTopic, data)"
   ]
  },
  {
   "cell_type": "code",
   "execution_count": null,
   "metadata": {},
   "outputs": [],
   "source": [
    "readFromKafkaSpark(kafkaTopic).show()"
   ]
  }
 ],
 "metadata": {
  "kernelspec": {
   "display_name": "Scala",
   "language": "scala",
   "name": "scala"
  },
  "language_info": {
   "codemirror_mode": "text/x-scala",
   "file_extension": ".sc",
   "mimetype": "text/x-scala",
   "name": "scala",
   "nbconvert_exporter": "script",
   "version": "2.13.16"
  }
 },
 "nbformat": 4,
 "nbformat_minor": 2
}
