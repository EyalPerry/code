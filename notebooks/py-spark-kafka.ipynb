{
 "cells": [
  {
   "cell_type": "code",
   "execution_count": 1,
   "metadata": {},
   "outputs": [
    {
     "name": "stderr",
     "output_type": "stream",
     "text": [
      "Pulling image testcontainers/ryuk:0.8.1\n",
      "Container started: ea56dfd6ebca\n",
      "Waiting for container <Container: ea56dfd6ebca> with image testcontainers/ryuk:0.8.1 to be ready ...\n",
      "Pulling image confluentinc/cp-kafka:7.6.0\n",
      "Container started: feba3734a0ca\n",
      "Waiting for container <Container: feba3734a0ca> with image confluentinc/cp-kafka:7.6.0 to be ready ...\n",
      "Waiting for container <Container: feba3734a0ca> with image confluentinc/cp-kafka:7.6.0 to be ready ...\n",
      "Pulling image confluentinc/cp-kafka:7.6.0\n",
      "Container started: b946e69c2752\n",
      "Waiting for container <Container: b946e69c2752> with image confluentinc/cp-kafka:7.6.0 to be ready ...\n",
      "Waiting for container <Container: b946e69c2752> with image confluentinc/cp-kafka:7.6.0 to be ready ...\n",
      "your 131072x1 screen size is bogus. expect trouble\n",
      "25/03/30 16:41:07 WARN Utils: Your hostname, DESKTOP-CN01VS3 resolves to a loopback address: 127.0.1.1; using 10.255.255.254 instead (on interface lo)\n",
      "25/03/30 16:41:07 WARN Utils: Set SPARK_LOCAL_IP if you need to bind to another address\n",
      "Ivy Default Cache set to: /home/eyal/.ivy2/cache\n",
      "The jars for the packages stored in: /home/eyal/.ivy2/jars\n",
      "io.delta#delta-spark_2.12 added as a dependency\n",
      "org.apache.spark#spark-sql-kafka-0-10_2.12 added as a dependency\n",
      ":: resolving dependencies :: org.apache.spark#spark-submit-parent-4e3e952b-f138-466b-b704-f96cf94c4af0;1.0\n",
      "\tconfs: [default]\n"
     ]
    },
    {
     "name": "stdout",
     "output_type": "stream",
     "text": [
      ":: loading settings :: url = jar:file:/home/eyal/code/venv/lib/python3.12/site-packages/pyspark/jars/ivy-2.5.1.jar!/org/apache/ivy/core/settings/ivysettings.xml\n"
     ]
    },
    {
     "name": "stderr",
     "output_type": "stream",
     "text": [
      "\tfound io.delta#delta-spark_2.12;3.3.0 in central\n",
      "\tfound io.delta#delta-storage;3.3.0 in central\n",
      "\tfound org.antlr#antlr4-runtime;4.9.3 in central\n",
      "\tfound org.apache.spark#spark-sql-kafka-0-10_2.12;3.5.0 in central\n",
      "\tfound org.apache.spark#spark-token-provider-kafka-0-10_2.12;3.5.0 in central\n",
      "\tfound org.apache.kafka#kafka-clients;3.4.1 in central\n",
      "\tfound org.lz4#lz4-java;1.8.0 in central\n",
      "\tfound org.xerial.snappy#snappy-java;1.1.10.3 in central\n",
      "\tfound org.slf4j#slf4j-api;2.0.7 in central\n",
      "\tfound org.apache.hadoop#hadoop-client-runtime;3.3.4 in central\n",
      "\tfound org.apache.hadoop#hadoop-client-api;3.3.4 in central\n",
      "\tfound commons-logging#commons-logging;1.1.3 in central\n",
      "\tfound com.google.code.findbugs#jsr305;3.0.0 in central\n",
      "\tfound org.apache.commons#commons-pool2;2.11.1 in central\n",
      ":: resolution report :: resolve 357ms :: artifacts dl 15ms\n",
      "\t:: modules in use:\n",
      "\tcom.google.code.findbugs#jsr305;3.0.0 from central in [default]\n",
      "\tcommons-logging#commons-logging;1.1.3 from central in [default]\n",
      "\tio.delta#delta-spark_2.12;3.3.0 from central in [default]\n",
      "\tio.delta#delta-storage;3.3.0 from central in [default]\n",
      "\torg.antlr#antlr4-runtime;4.9.3 from central in [default]\n",
      "\torg.apache.commons#commons-pool2;2.11.1 from central in [default]\n",
      "\torg.apache.hadoop#hadoop-client-api;3.3.4 from central in [default]\n",
      "\torg.apache.hadoop#hadoop-client-runtime;3.3.4 from central in [default]\n",
      "\torg.apache.kafka#kafka-clients;3.4.1 from central in [default]\n",
      "\torg.apache.spark#spark-sql-kafka-0-10_2.12;3.5.0 from central in [default]\n",
      "\torg.apache.spark#spark-token-provider-kafka-0-10_2.12;3.5.0 from central in [default]\n",
      "\torg.lz4#lz4-java;1.8.0 from central in [default]\n",
      "\torg.slf4j#slf4j-api;2.0.7 from central in [default]\n",
      "\torg.xerial.snappy#snappy-java;1.1.10.3 from central in [default]\n",
      "\t---------------------------------------------------------------------\n",
      "\t|                  |            modules            ||   artifacts   |\n",
      "\t|       conf       | number| search|dwnlded|evicted|| number|dwnlded|\n",
      "\t---------------------------------------------------------------------\n",
      "\t|      default     |   14  |   0   |   0   |   0   ||   14  |   0   |\n",
      "\t---------------------------------------------------------------------\n",
      ":: retrieving :: org.apache.spark#spark-submit-parent-4e3e952b-f138-466b-b704-f96cf94c4af0\n",
      "\tconfs: [default]\n",
      "\t0 artifacts copied, 14 already retrieved (0kB/6ms)\n",
      "25/03/30 16:41:08 WARN NativeCodeLoader: Unable to load native-hadoop library for your platform... using builtin-java classes where applicable\n",
      "Setting default log level to \"WARN\".\n",
      "To adjust logging level use sc.setLogLevel(newLevel). For SparkR, use setLogLevel(newLevel).\n"
     ]
    }
   ],
   "source": [
    "from testcontainers.kafka import KafkaContainer\n",
    "from kafka import KafkaProducer\n",
    "from typing import List\n",
    "from pyspark.sql import DataFrame\n",
    "\n",
    "def import_src():\n",
    "    import sys\n",
    "    import os\n",
    "\n",
    "    # Add the project root to the path\n",
    "    sys.path.append(os.path.abspath(\"..\"))\n",
    "    # Import your module\n",
    "\n",
    "import_src()\n",
    "from src import *\n",
    "\n",
    "kafka_topic = \"my-topic-py\"\n",
    "\n",
    "kafka = KafkaContainer()\n",
    "kafka.start()\n",
    "bootstrap_server = kafka.get_bootstrap_server()\n",
    "\n",
    "kafka.start()\n",
    "bootstrap_server = kafka.get_bootstrap_server()\n",
    "\n",
    "kafka_producer = KafkaProducer(bootstrap_servers=bootstrap_server)\n",
    "\n",
    "spark = init_spark()\n",
    "\n",
    "def send_to_kafka(kafka_topic: str, values: List[str]) -> None:\n",
    "    for value in values:\n",
    "        kafka_producer.send(kafka_topic,  value.encode(\"utf-8\"))\n",
    "    kafka_producer.flush()\n",
    "\n",
    "def read_kafka_spark(kafka_topic: str) -> DataFrame:\n",
    "    return spark.read \\\n",
    "    .format(\"kafka\") \\\n",
    "    .option(\"kafka.bootstrap.servers\", bootstrap_server) \\\n",
    "    .option(\"subscribe\", kafka_topic) \\\n",
    "    .load() \\\n",
    "    .selectExpr(\"CAST(value AS STRING)\")"
   ]
  },
  {
   "cell_type": "code",
   "execution_count": 2,
   "metadata": {},
   "outputs": [
    {
     "name": "stderr",
     "output_type": "stream",
     "text": [
      "25/03/30 16:41:14 WARN AdminClientConfig: These configurations '[key.deserializer, value.deserializer, enable.auto.commit, max.poll.records, auto.offset.reset]' were supplied but are not used yet.\n",
      "[Stage 0:>                                                          (0 + 1) / 1]\r"
     ]
    },
    {
     "name": "stdout",
     "output_type": "stream",
     "text": [
      "+------+\n",
      "| value|\n",
      "+------+\n",
      "|    hi|\n",
      "| there|\n",
      "|  from|\n",
      "|python|\n",
      "+------+\n",
      "\n"
     ]
    },
    {
     "name": "stderr",
     "output_type": "stream",
     "text": [
      "                                                                                \r"
     ]
    }
   ],
   "source": [
    "send_to_kafka(kafka_topic=kafka_topic, values = [\"hi\", \"there\", \"from\", \"python\"])\n",
    "read_kafka_spark(kafka_topic=kafka_topic).show()"
   ]
  }
 ],
 "metadata": {
  "kernelspec": {
   "display_name": "venv",
   "language": "python",
   "name": "python3"
  },
  "language_info": {
   "codemirror_mode": {
    "name": "ipython",
    "version": 3
   },
   "file_extension": ".py",
   "mimetype": "text/x-python",
   "name": "python",
   "nbconvert_exporter": "python",
   "pygments_lexer": "ipython3",
   "version": "3.12.3"
  }
 },
 "nbformat": 4,
 "nbformat_minor": 2
}
